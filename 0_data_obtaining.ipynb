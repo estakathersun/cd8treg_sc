{
 "cells": [
  {
   "cell_type": "code",
   "execution_count": 1,
   "id": "c83e2bea-0b6e-4dcf-af1f-2aa9d75e2a24",
   "metadata": {},
   "outputs": [],
   "source": [
    "import os\n",
    "import random\n",
    "import pandas as pd\n",
    "import scanpy as sc\n",
    "from scipy import sparse\n",
    "import tqdm\n",
    "\n",
    "import warnings\n",
    "from anndata import ImplicitModificationWarning\n",
    "\n",
    "warnings.filterwarnings(\"ignore\", category=ImplicitModificationWarning)\n",
    "\n",
    "# sc.settings.verbosity = 0\n",
    "sc._settings.ScanpyConfig.verbosity = 0"
   ]
  },
  {
   "cell_type": "markdown",
   "id": "cad559fd-7967-4548-b433-faca434a0a7e",
   "metadata": {},
   "source": [
    "### OneK1K to single matrices:"
   ]
  },
  {
   "cell_type": "code",
   "execution_count": 2,
   "id": "c7ea15b4-e06a-4e8d-910d-10f803b0e11d",
   "metadata": {},
   "outputs": [
    {
     "name": "stdout",
     "output_type": "stream",
     "text": [
      "--2024-04-24 18:51:01--  ftp://ftp.ncbi.nlm.nih.gov/geo/series/GSE196nnn/GSE196735/suppl/GSE196735_RAW.tar\n",
      "           => ‘GSE196735_RAW.tar’\n",
      "Resolving ftp.ncbi.nlm.nih.gov (ftp.ncbi.nlm.nih.gov)... 130.14.250.10, 130.14.250.11, 2607:f220:41e:250::7, ...\n",
      "Connecting to ftp.ncbi.nlm.nih.gov (ftp.ncbi.nlm.nih.gov)|130.14.250.10|:21... connected.\n",
      "Logging in as anonymous ... Logged in!\n",
      "==> SYST ... done.    ==> PWD ... done.\n",
      "==> TYPE I ... done.  ==> CWD (1) /geo/series/GSE196nnn/GSE196735/suppl ... done.\n",
      "==> SIZE GSE196735_RAW.tar ... 1551697920\n",
      "==> PASV ... done.    ==> RETR GSE196735_RAW.tar ... done.\n",
      "Length: 1551697920 (1.4G) (unauthoritative)\n",
      "\n",
      "GSE196735_RAW.tar   100%[===================>]   1.44G  19.1MB/s    in 79s     \n",
      "\n",
      "2024-04-24 18:52:23 (18.7 MB/s) - ‘GSE196735_RAW.tar’ saved [1551697920]\n",
      "\n"
     ]
    }
   ],
   "source": [
    "!wget ftp://ftp.ncbi.nlm.nih.gov/geo/series/GSE196nnn/GSE196735/suppl/GSE196735_RAW.tar"
   ]
  },
  {
   "cell_type": "code",
   "execution_count": 3,
   "id": "793df79e-4476-43e3-a627-2398e12c9770",
   "metadata": {},
   "outputs": [],
   "source": [
    "!mkdir raw\n",
    "!mv GSE196735_RAW.tar ./raw/"
   ]
  },
  {
   "cell_type": "code",
   "execution_count": 13,
   "id": "40c133fb-557c-4562-a310-5c02e757ef51",
   "metadata": {},
   "outputs": [],
   "source": [
    "!tar -xf ./raw/GSE196735_RAW.tar -C ./raw\n",
    "\n",
    "!mkdir raw_counts\n",
    "!cd ./raw && for f in *RawCounts.csv.gz ; do gunzip -c \"$f\" > ../raw_counts/\"${f%.*}\" ; done\n",
    "!rm ./raw/*RawCounts.csv.gz\n",
    "\n",
    "!mkdir single_matrices"
   ]
  },
  {
   "cell_type": "code",
   "execution_count": 32,
   "id": "414c701d-48fd-4e40-a5ab-c21ae6bf8271",
   "metadata": {},
   "outputs": [
    {
     "name": "stderr",
     "output_type": "stream",
     "text": [
      "100%|█████████████████████████████████████████| 75/75 [1:00:34<00:00, 48.46s/it]\n"
     ]
    }
   ],
   "source": [
    "metadata = pd.read_csv('metadata_all.csv')\n",
    "metadata.set_index('barcode', inplace=True)\n",
    "metadata.drop(columns=['percent.mt', 'cell_type_ontology_term_id',\n",
    "                       'cell_type', 'observation_joinid'],\n",
    "              inplace=True)\n",
    "metadata['sex'] = metadata['sex'].replace(to_replace={'female': 'Female', 'male': 'Male'})\n",
    "metadata['dataset'] = 'OneK1K'\n",
    "\n",
    "raw_counts = os.listdir('./raw_counts')\n",
    "with tqdm.tqdm(total=len(raw_counts)) as progress_bar:\n",
    "    for raw in raw_counts:\n",
    "        if raw.startswith('GSM'):\n",
    "            # read pool mtx:\n",
    "            adata = sc.read_csv(f\"./raw_counts/{raw}\")\n",
    "            adata = adata.T\n",
    "            adata.X = sparse.csr_matrix(adata.X)\n",
    "    \n",
    "            # add metadata:\n",
    "            # adata.obs = pd.merge(adata.obs, metadata, left_index=True, right_on='barcode').reindex(adata.obs_names)\n",
    "            adata.obs = pd.concat([adata.obs, metadata], axis=1).reindex(adata.obs_names)\n",
    "            adata = adata[adata.obs.dropna().index]\n",
    "            pool = int(adata.obs['pool_number'].unique()[0])\n",
    "    \n",
    "            # parse mtx with metadata:\n",
    "            for id in adata.obs['donor_id'].unique():\n",
    "                child = adata[adata.obs['donor_id'] == id]\n",
    "                age = int(child.obs['age'].unique()[0])\n",
    "                sex = child.obs['sex'].unique()[0]\n",
    "                filename = f'{pool}-{id}-{age}-{sex}.h5ad'\n",
    "                if age >= 65:\n",
    "                    child.write(os.path.join('./single_matrices/', '65+', filename))\n",
    "                else:                                    \n",
    "                    child.write(os.path.join('./single_matrices/', filename))\n",
    "            progress_bar.update()"
   ]
  },
  {
   "cell_type": "code",
   "execution_count": null,
   "id": "133a19bb-6241-4d20-8261-b644128c0b27",
   "metadata": {},
   "outputs": [],
   "source": []
  },
  {
   "cell_type": "code",
   "execution_count": null,
   "id": "cfd199bf-6b6a-41f6-8cba-2b0a951690e0",
   "metadata": {},
   "outputs": [],
   "source": []
  },
  {
   "cell_type": "markdown",
   "id": "84292dd0-dfa8-4f0d-809d-375148a0a94f",
   "metadata": {},
   "source": [
    "### CLUES (healthy) to single matrices: "
   ]
  },
  {
   "cell_type": "markdown",
   "id": "a27744e9-38fb-4f58-9d20-9941fc6c48e6",
   "metadata": {},
   "source": [
    "Source: [GSE174188](https://www.ncbi.nlm.nih.gov/geo/query/acc.cgi?acc=GSE174188)\n",
    "\n",
    "> Examination of 1.2 million PBMCs in 162 SLE donors and 99 healthy individuals to find cellular and genetic correlates of SLE."
   ]
  },
  {
   "cell_type": "code",
   "execution_count": 8,
   "id": "e72afc14-4cc9-4528-9400-b703a0fb69ef",
   "metadata": {},
   "outputs": [
    {
     "name": "stdout",
     "output_type": "stream",
     "text": [
      "--2024-05-07 01:05:41--  ftp://ftp.ncbi.nlm.nih.gov/geo/series/GSE174nnn/GSE174188/suppl/GSE174188%5FCLUES1%5Fadjusted.h5ad.gz\n",
      "           => ‘GSE174188_CLUES1_adjusted.h5ad.gz’\n",
      "Resolving ftp.ncbi.nlm.nih.gov (ftp.ncbi.nlm.nih.gov)... 130.14.250.11, 130.14.250.12, 2607:f220:41e:250::7, ...\n",
      "Connecting to ftp.ncbi.nlm.nih.gov (ftp.ncbi.nlm.nih.gov)|130.14.250.11|:21... connected.\n",
      "Logging in as anonymous ... Logged in!\n",
      "==> SYST ... done.    ==> PWD ... done.\n",
      "==> TYPE I ... done.  ==> CWD (1) /geo/series/GSE174nnn/GSE174188/suppl ... done.\n",
      "==> SIZE GSE174188_CLUES1_adjusted.h5ad.gz ... 7833149210\n",
      "==> PASV ... done.    ==> REST 6890045440 ... done.    \n",
      "==> RETR GSE174188_CLUES1_adjusted.h5ad.gz ... done.\n",
      "Length: 7833149210 (7.3G), 943103770 (899M) remaining (unauthoritative)\n",
      "\n",
      "GSE174188_CLUES1_ad 100%[+++++++++++++++++==>]   7.29G  19.5MB/s    in 48s     \n",
      "\n",
      "2024-05-07 01:06:32 (18.6 MB/s) - ‘GSE174188_CLUES1_adjusted.h5ad.gz’ saved [7833149210]\n",
      "\n"
     ]
    }
   ],
   "source": [
    "# try to run several times, it's valid link!\n",
    "!wget -c ftp://ftp.ncbi.nlm.nih.gov/geo/series/GSE174nnn/GSE174188/suppl/GSE174188%5FCLUES1%5Fadjusted.h5ad.gz"
   ]
  },
  {
   "cell_type": "code",
   "execution_count": 9,
   "id": "01d456c5-2f2d-43e7-a6b4-d5174bbbf315",
   "metadata": {},
   "outputs": [],
   "source": [
    "!gunzip GSE174188_CLUES1_adjusted.h5ad.gz"
   ]
  },
  {
   "cell_type": "code",
   "execution_count": 3,
   "id": "c26bedc7-9d31-4b59-a654-020a8e0850a4",
   "metadata": {},
   "outputs": [],
   "source": [
    "cl = sc.read_h5ad('./raw/GSE174188_CLUES1_adjusted.h5ad')\n",
    "cl = cl[cl.obs['SLE_status'] == 'Healthy']"
   ]
  },
  {
   "cell_type": "code",
   "execution_count": 4,
   "id": "4ba67ade-8c54-4cba-8d5b-8ee2b76a29f6",
   "metadata": {},
   "outputs": [
    {
     "data": {
      "text/plain": [
       "View of AnnData object with n_obs × n_vars = 486418 × 1999\n",
       "    obs: 'batch_cov', 'ind_cov', 'Processing_Cohort', 'louvain', 'cg_cov', 'ct_cov', 'L3', 'ind_cov_batch_cov', 'Age', 'Sex', 'pop_cov', 'Status', 'SLE_status'\n",
       "    var: 'gene_ids'\n",
       "    uns: 'neighbors', 'pca', 'rank_genes_groups', 'umap'\n",
       "    obsm: 'X_pca', 'X_umap'\n",
       "    varm: 'PCs'\n",
       "    obsp: 'connectivities', 'distances'"
      ]
     },
     "execution_count": 4,
     "metadata": {},
     "output_type": "execute_result"
    }
   ],
   "source": [
    "cl"
   ]
  },
  {
   "cell_type": "code",
   "execution_count": 14,
   "id": "aaf738bd-15f4-40f5-bd5b-8090cbeda09f",
   "metadata": {},
   "outputs": [
    {
     "data": {
      "text/plain": [
       "AnnData object with n_obs × n_vars = 486418 × 32738\n",
       "    obs: 'batch_cov', 'ind_cov', 'Processing_Cohort', 'louvain', 'cg_cov', 'ct_cov', 'L3', 'ind_cov_batch_cov', 'Age', 'Sex', 'pop_cov', 'Status', 'SLE_status'\n",
       "    var: 'gene_ids', 'feature_types-0-0-0-0-0-0-0-0-0-0-0-0-0-0-0-0-0-0-0-0-0-0-0-0-0-0-0-0-0-0-0-0-0-0-0-0-0-0-0-0-0-0-0-0-0-0-0-0-0-0-0-0-0-0-0-0-0-0-0-0-0-0-0-0'\n",
       "    uns: 'neighbors', 'pca', 'rank_genes_groups', 'umap'\n",
       "    obsm: 'X_pca', 'X_umap'\n",
       "    obsp: 'connectivities', 'distances'"
      ]
     },
     "execution_count": 14,
     "metadata": {},
     "output_type": "execute_result"
    }
   ],
   "source": [
    "cl_raw = cl.raw.to_adata()\n",
    "cl_raw"
   ]
  },
  {
   "cell_type": "markdown",
   "id": "0d0d52c1-b662-47dc-8777-0e085d179d04",
   "metadata": {},
   "source": [
    "> Since CLUES data were parsed after I started working with OneK1K, I bring it into line with OneK1K:"
   ]
  },
  {
   "cell_type": "code",
   "execution_count": 17,
   "id": "53a33b12-cf81-42a7-8585-c0e14f8ed0b0",
   "metadata": {},
   "outputs": [],
   "source": [
    "cl_raw.var.drop(columns='feature_types-0-0-0-0-0-0-0-0-0-0-0-0-0-0-0-0-0-0-0-0-0-0-0-0-0-0-0-0-0-0-0-0-0-0-0-0-0-0-0-0-0-0-0-0-0-0-0-0-0-0-0-0-0-0-0-0-0-0-0-0-0-0-0-0', \n",
    "                inplace=True)"
   ]
  },
  {
   "cell_type": "code",
   "execution_count": 18,
   "id": "93fe21b7-18f8-4fd8-ba9e-5f0f6857825c",
   "metadata": {},
   "outputs": [],
   "source": [
    "cl_new = sc.AnnData(X=cl_raw.X,\n",
    "                    obs=cl_raw.obs[['batch_cov', 'ind_cov', 'ct_cov', 'Age', 'Sex', 'pop_cov']],\n",
    "                    var=cl_raw.var)"
   ]
  },
  {
   "cell_type": "code",
   "execution_count": 22,
   "id": "5e7b5828-cb96-470b-9a81-40574f798154",
   "metadata": {},
   "outputs": [],
   "source": [
    "cl_new.obs.rename(columns={'batch_cov': 'pool_number', \n",
    "                           'ind_cov': 'donor_id', \n",
    "                           'Age': 'age', \n",
    "                           'Sex': 'sex', \n",
    "                           'pop_cov': 'ethnicity'}, inplace=True)\n",
    "cl_new.obs['dataset'] = 'CLUES'"
   ]
  },
  {
   "cell_type": "code",
   "execution_count": 23,
   "id": "a3fe344a-824d-4f01-8780-36508cce5d05",
   "metadata": {
    "scrolled": true
   },
   "outputs": [],
   "source": [
    "for id in cl_new.obs['donor_id'].unique():\n",
    "    child = cl_new[cl_new.obs['donor_id'] == id]\n",
    "    age = child.obs['age'].unique()[0]\n",
    "    sex = child.obs['sex'].unique()[0]\n",
    "    pool = child.obs['pool_number'].unique()[0]\n",
    "    filename = f'CLUES-{pool}-{id}-{float(age):.0f}-{sex}.h5ad'\n",
    "    if float(age) >= 65:\n",
    "        child.write(f'./single_matrices/65+/{filename}')\n",
    "    else: \n",
    "        child.write(f'./single_matrices/{filename}')"
   ]
  },
  {
   "cell_type": "code",
   "execution_count": 24,
   "id": "1c97733c-371e-48b0-ab3c-857d4adee18f",
   "metadata": {},
   "outputs": [
    {
     "data": {
      "text/plain": [
       "AnnData object with n_obs × n_vars = 4152 × 32738\n",
       "    obs: 'pool_number', 'donor_id', 'ct_cov', 'age', 'sex', 'ethnicity', 'dataset'\n",
       "    var: 'gene_ids'"
      ]
     },
     "execution_count": 24,
     "metadata": {},
     "output_type": "execute_result"
    }
   ],
   "source": [
    "# let's check:\n",
    "test = sc.read_h5ad('./single_matrices/CLUES-dmx_count_AH7TNHDMXX_YE_8-30-IGTB1793_IGTB1793-25-Female.h5ad')\n",
    "test"
   ]
  },
  {
   "cell_type": "code",
   "execution_count": 25,
   "id": "48a103cd-41c3-41d7-98a9-25906af96a6e",
   "metadata": {},
   "outputs": [
    {
     "data": {
      "text/html": [
       "<div>\n",
       "<style scoped>\n",
       "    .dataframe tbody tr th:only-of-type {\n",
       "        vertical-align: middle;\n",
       "    }\n",
       "\n",
       "    .dataframe tbody tr th {\n",
       "        vertical-align: top;\n",
       "    }\n",
       "\n",
       "    .dataframe thead th {\n",
       "        text-align: right;\n",
       "    }\n",
       "</style>\n",
       "<table border=\"1\" class=\"dataframe\">\n",
       "  <thead>\n",
       "    <tr style=\"text-align: right;\">\n",
       "      <th></th>\n",
       "      <th>pool_number</th>\n",
       "      <th>donor_id</th>\n",
       "      <th>ct_cov</th>\n",
       "      <th>age</th>\n",
       "      <th>sex</th>\n",
       "      <th>ethnicity</th>\n",
       "      <th>dataset</th>\n",
       "    </tr>\n",
       "  </thead>\n",
       "  <tbody>\n",
       "    <tr>\n",
       "      <th>CGTTCTGGTTTGTTTC-1-1-0-0-0-0-0-0-0-0-0-0-0-0-0-0-0-0-0-0-0-0-0-0-0-1-0-0-0-0</th>\n",
       "      <td>dmx_count_AH7TNHDMXX_YE_8-30</td>\n",
       "      <td>IGTB1793_IGTB1793</td>\n",
       "      <td>CytoT_GZMK+</td>\n",
       "      <td>25.0</td>\n",
       "      <td>Female</td>\n",
       "      <td>European</td>\n",
       "      <td>CLUES</td>\n",
       "    </tr>\n",
       "    <tr>\n",
       "      <th>ACAGCCGCATTCACTT-1-1-0-0-0-0-0-0-0-0-0-0-0-0-0-0-0-0-0-0-0-0-0-0-1-0-0-0-0</th>\n",
       "      <td>dmx_count_AH7TNHDMXX_YE_8-30</td>\n",
       "      <td>IGTB1793_IGTB1793</td>\n",
       "      <td>T8_naive</td>\n",
       "      <td>25.0</td>\n",
       "      <td>Female</td>\n",
       "      <td>European</td>\n",
       "      <td>CLUES</td>\n",
       "    </tr>\n",
       "    <tr>\n",
       "      <th>GTGCAGCGTTCCATGA-1-1-0-0-0-0-0-0-0-0-0-0-0-0-0-0-0-0-0-0-0-0-0-0-0-1-0-0-0-0</th>\n",
       "      <td>dmx_count_AH7TNHDMXX_YE_8-30</td>\n",
       "      <td>IGTB1793_IGTB1793</td>\n",
       "      <td>NK_dim</td>\n",
       "      <td>25.0</td>\n",
       "      <td>Female</td>\n",
       "      <td>European</td>\n",
       "      <td>CLUES</td>\n",
       "    </tr>\n",
       "    <tr>\n",
       "      <th>CAGCATAAGAGGGCTT-1-1-0-0-0-0-0-0-0-0-0-0-0-0-0-0-0-0-0-0-0-0-1-0-0-0-0</th>\n",
       "      <td>dmx_count_AH7TNHDMXX_YE_8-30</td>\n",
       "      <td>IGTB1793_IGTB1793</td>\n",
       "      <td>NaN</td>\n",
       "      <td>25.0</td>\n",
       "      <td>Female</td>\n",
       "      <td>European</td>\n",
       "      <td>CLUES</td>\n",
       "    </tr>\n",
       "    <tr>\n",
       "      <th>AAACCTGTCTTGCAAG-1-1-0-0-0-0-0-0-0-0-0-0-0-0-0-0-0-0-0-0-0-0-0-1-0-0-0-0</th>\n",
       "      <td>dmx_count_AH7TNHDMXX_YE_8-30</td>\n",
       "      <td>IGTB1793_IGTB1793</td>\n",
       "      <td>T_mait</td>\n",
       "      <td>25.0</td>\n",
       "      <td>Female</td>\n",
       "      <td>European</td>\n",
       "      <td>CLUES</td>\n",
       "    </tr>\n",
       "    <tr>\n",
       "      <th>...</th>\n",
       "      <td>...</td>\n",
       "      <td>...</td>\n",
       "      <td>...</td>\n",
       "      <td>...</td>\n",
       "      <td>...</td>\n",
       "      <td>...</td>\n",
       "      <td>...</td>\n",
       "    </tr>\n",
       "    <tr>\n",
       "      <th>ATCGAGTCAATCACAC-1-1-0-0-0-0-0-0-0-0-0-0-0-0-0-0-0-0-0-0-0-0-0-0-0-1-0-0-0-0</th>\n",
       "      <td>dmx_count_AH7TNHDMXX_YE_8-30</td>\n",
       "      <td>IGTB1793_IGTB1793</td>\n",
       "      <td>B_mem</td>\n",
       "      <td>25.0</td>\n",
       "      <td>Female</td>\n",
       "      <td>European</td>\n",
       "      <td>CLUES</td>\n",
       "    </tr>\n",
       "    <tr>\n",
       "      <th>CGAACATTCTGAAAGA-1-1-0-0-0-0-0-0-0-0-0-0-0-0-0-0-0-0-0-0-0-0-0-1-0-0-0-0</th>\n",
       "      <td>dmx_count_AH7TNHDMXX_YE_8-30</td>\n",
       "      <td>IGTB1793_IGTB1793</td>\n",
       "      <td>T4_naive</td>\n",
       "      <td>25.0</td>\n",
       "      <td>Female</td>\n",
       "      <td>European</td>\n",
       "      <td>CLUES</td>\n",
       "    </tr>\n",
       "    <tr>\n",
       "      <th>TACCTTAGTGATGTCT-1-1-0-0-0-0-0-0-0-0-0-0-0-0-0-0-0-0-0-0-0-0-0-1-0-0-0-0</th>\n",
       "      <td>dmx_count_AH7TNHDMXX_YE_8-30</td>\n",
       "      <td>IGTB1793_IGTB1793</td>\n",
       "      <td>B_naive</td>\n",
       "      <td>25.0</td>\n",
       "      <td>Female</td>\n",
       "      <td>European</td>\n",
       "      <td>CLUES</td>\n",
       "    </tr>\n",
       "    <tr>\n",
       "      <th>TCAATCTCAAGTTAAG-1-1-0-0-0-0-0-0-0-0-0-0-0-0-0-0-0-0-0-0-0-0-0-1-0-0-0-0</th>\n",
       "      <td>dmx_count_AH7TNHDMXX_YE_8-30</td>\n",
       "      <td>IGTB1793_IGTB1793</td>\n",
       "      <td>T8_naive</td>\n",
       "      <td>25.0</td>\n",
       "      <td>Female</td>\n",
       "      <td>European</td>\n",
       "      <td>CLUES</td>\n",
       "    </tr>\n",
       "    <tr>\n",
       "      <th>CCACCTAAGTGGCACA-1-1-0-0-0-0-0-0-0-0-0-0-0-0-0-0-0-0-0-0-0-0-0-0-1-0-0-0-0</th>\n",
       "      <td>dmx_count_AH7TNHDMXX_YE_8-30</td>\n",
       "      <td>IGTB1793_IGTB1793</td>\n",
       "      <td>CytoT_GZMK+</td>\n",
       "      <td>25.0</td>\n",
       "      <td>Female</td>\n",
       "      <td>European</td>\n",
       "      <td>CLUES</td>\n",
       "    </tr>\n",
       "  </tbody>\n",
       "</table>\n",
       "<p>4152 rows × 7 columns</p>\n",
       "</div>"
      ],
      "text/plain": [
       "                                                                     pool_number  \\\n",
       "CGTTCTGGTTTGTTTC-1-1-0-0-0-0-0-0-0-0-0-0-0-0-0-...  dmx_count_AH7TNHDMXX_YE_8-30   \n",
       "ACAGCCGCATTCACTT-1-1-0-0-0-0-0-0-0-0-0-0-0-0-0-...  dmx_count_AH7TNHDMXX_YE_8-30   \n",
       "GTGCAGCGTTCCATGA-1-1-0-0-0-0-0-0-0-0-0-0-0-0-0-...  dmx_count_AH7TNHDMXX_YE_8-30   \n",
       "CAGCATAAGAGGGCTT-1-1-0-0-0-0-0-0-0-0-0-0-0-0-0-...  dmx_count_AH7TNHDMXX_YE_8-30   \n",
       "AAACCTGTCTTGCAAG-1-1-0-0-0-0-0-0-0-0-0-0-0-0-0-...  dmx_count_AH7TNHDMXX_YE_8-30   \n",
       "...                                                                          ...   \n",
       "ATCGAGTCAATCACAC-1-1-0-0-0-0-0-0-0-0-0-0-0-0-0-...  dmx_count_AH7TNHDMXX_YE_8-30   \n",
       "CGAACATTCTGAAAGA-1-1-0-0-0-0-0-0-0-0-0-0-0-0-0-...  dmx_count_AH7TNHDMXX_YE_8-30   \n",
       "TACCTTAGTGATGTCT-1-1-0-0-0-0-0-0-0-0-0-0-0-0-0-...  dmx_count_AH7TNHDMXX_YE_8-30   \n",
       "TCAATCTCAAGTTAAG-1-1-0-0-0-0-0-0-0-0-0-0-0-0-0-...  dmx_count_AH7TNHDMXX_YE_8-30   \n",
       "CCACCTAAGTGGCACA-1-1-0-0-0-0-0-0-0-0-0-0-0-0-0-...  dmx_count_AH7TNHDMXX_YE_8-30   \n",
       "\n",
       "                                                             donor_id  \\\n",
       "CGTTCTGGTTTGTTTC-1-1-0-0-0-0-0-0-0-0-0-0-0-0-0-...  IGTB1793_IGTB1793   \n",
       "ACAGCCGCATTCACTT-1-1-0-0-0-0-0-0-0-0-0-0-0-0-0-...  IGTB1793_IGTB1793   \n",
       "GTGCAGCGTTCCATGA-1-1-0-0-0-0-0-0-0-0-0-0-0-0-0-...  IGTB1793_IGTB1793   \n",
       "CAGCATAAGAGGGCTT-1-1-0-0-0-0-0-0-0-0-0-0-0-0-0-...  IGTB1793_IGTB1793   \n",
       "AAACCTGTCTTGCAAG-1-1-0-0-0-0-0-0-0-0-0-0-0-0-0-...  IGTB1793_IGTB1793   \n",
       "...                                                               ...   \n",
       "ATCGAGTCAATCACAC-1-1-0-0-0-0-0-0-0-0-0-0-0-0-0-...  IGTB1793_IGTB1793   \n",
       "CGAACATTCTGAAAGA-1-1-0-0-0-0-0-0-0-0-0-0-0-0-0-...  IGTB1793_IGTB1793   \n",
       "TACCTTAGTGATGTCT-1-1-0-0-0-0-0-0-0-0-0-0-0-0-0-...  IGTB1793_IGTB1793   \n",
       "TCAATCTCAAGTTAAG-1-1-0-0-0-0-0-0-0-0-0-0-0-0-0-...  IGTB1793_IGTB1793   \n",
       "CCACCTAAGTGGCACA-1-1-0-0-0-0-0-0-0-0-0-0-0-0-0-...  IGTB1793_IGTB1793   \n",
       "\n",
       "                                                         ct_cov   age     sex  \\\n",
       "CGTTCTGGTTTGTTTC-1-1-0-0-0-0-0-0-0-0-0-0-0-0-0-...  CytoT_GZMK+  25.0  Female   \n",
       "ACAGCCGCATTCACTT-1-1-0-0-0-0-0-0-0-0-0-0-0-0-0-...     T8_naive  25.0  Female   \n",
       "GTGCAGCGTTCCATGA-1-1-0-0-0-0-0-0-0-0-0-0-0-0-0-...       NK_dim  25.0  Female   \n",
       "CAGCATAAGAGGGCTT-1-1-0-0-0-0-0-0-0-0-0-0-0-0-0-...          NaN  25.0  Female   \n",
       "AAACCTGTCTTGCAAG-1-1-0-0-0-0-0-0-0-0-0-0-0-0-0-...       T_mait  25.0  Female   \n",
       "...                                                         ...   ...     ...   \n",
       "ATCGAGTCAATCACAC-1-1-0-0-0-0-0-0-0-0-0-0-0-0-0-...        B_mem  25.0  Female   \n",
       "CGAACATTCTGAAAGA-1-1-0-0-0-0-0-0-0-0-0-0-0-0-0-...     T4_naive  25.0  Female   \n",
       "TACCTTAGTGATGTCT-1-1-0-0-0-0-0-0-0-0-0-0-0-0-0-...      B_naive  25.0  Female   \n",
       "TCAATCTCAAGTTAAG-1-1-0-0-0-0-0-0-0-0-0-0-0-0-0-...     T8_naive  25.0  Female   \n",
       "CCACCTAAGTGGCACA-1-1-0-0-0-0-0-0-0-0-0-0-0-0-0-...  CytoT_GZMK+  25.0  Female   \n",
       "\n",
       "                                                   ethnicity dataset  \n",
       "CGTTCTGGTTTGTTTC-1-1-0-0-0-0-0-0-0-0-0-0-0-0-0-...  European   CLUES  \n",
       "ACAGCCGCATTCACTT-1-1-0-0-0-0-0-0-0-0-0-0-0-0-0-...  European   CLUES  \n",
       "GTGCAGCGTTCCATGA-1-1-0-0-0-0-0-0-0-0-0-0-0-0-0-...  European   CLUES  \n",
       "CAGCATAAGAGGGCTT-1-1-0-0-0-0-0-0-0-0-0-0-0-0-0-...  European   CLUES  \n",
       "AAACCTGTCTTGCAAG-1-1-0-0-0-0-0-0-0-0-0-0-0-0-0-...  European   CLUES  \n",
       "...                                                      ...     ...  \n",
       "ATCGAGTCAATCACAC-1-1-0-0-0-0-0-0-0-0-0-0-0-0-0-...  European   CLUES  \n",
       "CGAACATTCTGAAAGA-1-1-0-0-0-0-0-0-0-0-0-0-0-0-0-...  European   CLUES  \n",
       "TACCTTAGTGATGTCT-1-1-0-0-0-0-0-0-0-0-0-0-0-0-0-...  European   CLUES  \n",
       "TCAATCTCAAGTTAAG-1-1-0-0-0-0-0-0-0-0-0-0-0-0-0-...  European   CLUES  \n",
       "CCACCTAAGTGGCACA-1-1-0-0-0-0-0-0-0-0-0-0-0-0-0-...  European   CLUES  \n",
       "\n",
       "[4152 rows x 7 columns]"
      ]
     },
     "execution_count": 25,
     "metadata": {},
     "output_type": "execute_result"
    }
   ],
   "source": [
    "test.obs"
   ]
  },
  {
   "cell_type": "code",
   "execution_count": 26,
   "id": "120ffc84-b0f5-41cb-8d0e-1c113e994239",
   "metadata": {},
   "outputs": [
    {
     "data": {
      "text/plain": [
       "576"
      ]
     },
     "execution_count": 26,
     "metadata": {},
     "output_type": "execute_result"
    }
   ],
   "source": [
    "len(os.listdir('./single_matrices/65+'))"
   ]
  },
  {
   "cell_type": "code",
   "execution_count": 27,
   "id": "1e614b21-6194-428e-90b6-974ac18ff932",
   "metadata": {},
   "outputs": [
    {
     "data": {
      "text/plain": [
       "507"
      ]
     },
     "execution_count": 27,
     "metadata": {},
     "output_type": "execute_result"
    }
   ],
   "source": [
    "len(os.listdir('./single_matrices/'))"
   ]
  }
 ],
 "metadata": {
  "kernelspec": {
   "display_name": "Python [conda env:scenv]",
   "language": "python",
   "name": "conda-env-scenv-py"
  },
  "language_info": {
   "codemirror_mode": {
    "name": "ipython",
    "version": 3
   },
   "file_extension": ".py",
   "mimetype": "text/x-python",
   "name": "python",
   "nbconvert_exporter": "python",
   "pygments_lexer": "ipython3",
   "version": "3.11.9"
  }
 },
 "nbformat": 4,
 "nbformat_minor": 5
}
